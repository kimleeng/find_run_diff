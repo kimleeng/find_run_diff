{
 "cells": [
  {
   "cell_type": "code",
   "execution_count": null,
   "metadata": {},
   "outputs": [],
   "source": [
    "#| default_exp core"
   ]
  },
  {
   "cell_type": "markdown",
   "metadata": {},
   "source": [
    "#| hide\n",
    "Ensure that your .venv for this notebook is set to ./.venv"
   ]
  },
  {
   "cell_type": "markdown",
   "metadata": {},
   "source": [
    "# module name here\n",
    "\n",
    "> API details."
   ]
  },
  {
   "cell_type": "code",
   "execution_count": null,
   "metadata": {},
   "outputs": [],
   "source": [
    "#|hide\n",
    "from nbdev.showdoc import *"
   ]
  },
  {
   "cell_type": "code",
   "execution_count": null,
   "metadata": {},
   "outputs": [],
   "source": [
    "#|export\n",
    "# standard libs\n",
    "import os\n",
    "import re\n",
    "\n",
    "# add into settings.ini, package name is python-dotenv\n",
    "from dotenv import dotenv_values # Used for loading configs"
   ]
  },
  {
   "cell_type": "code",
   "execution_count": null,
   "metadata": {},
   "outputs": [],
   "source": [
    "#|export\n",
    "\n",
    "from dotenv import load_dotenv # for loading config from .env files\n",
    "\n",
    "def set_env_variables(config_path) -> bool:\n",
    "    # Order of precedence: environment variables > .env file > default values\n",
    "\n",
    "    # Set the env vars first, this is needed for the card.yaml to replace ENV variables\n",
    "    if config_path is not None:\n",
    "        load_dotenv(config_path)\n",
    "    load_dotenv(\"./config/config.default.env\")\n",
    "\n",
    "    return True"
   ]
  },
  {
   "cell_type": "code",
   "execution_count": null,
   "metadata": {},
   "outputs": [
    {
     "data": {
      "text/plain": [
       "True"
      ]
     },
     "execution_count": null,
     "metadata": {},
     "output_type": "execute_result"
    }
   ],
   "source": [
    "#|export\n",
    "\n",
    "import os\n",
    "set_env_variables(os.environ.get(\"FRD_CONFIG_PATH\"))"
   ]
  },
  {
   "cell_type": "code",
   "execution_count": null,
   "metadata": {},
   "outputs": [
    {
     "name": "stdout",
     "output_type": "stream",
     "text": [
      "FRD_SOURCE_DIR=./input/\n",
      "FRD_DEST_DIR=./output/\n",
      "FRD_SOURCE_REGEX=^folder([0-9]+)$\n",
      "FRD_DEST_REGEX=^folder_([0-9]+)$\n",
      "FRD_OUTPUT_FILE=./output/output.txt\n"
     ]
    }
   ],
   "source": [
    "#|hide\n",
    "\n",
    "for k, v in os.environ.items():\n",
    "    # If ENV var starts with FRD_ then print\n",
    "    if k.startswith(\"FRD_\"):\n",
    "        print(f\"{k}={v}\")"
   ]
  },
  {
   "cell_type": "code",
   "execution_count": null,
   "metadata": {},
   "outputs": [],
   "source": [
    "#|export\n",
    "\n",
    "def find_runs(dir, regex):\n",
    "    # make keys from capture groups of regex\n",
    "    runs = {}\n",
    "    for root, dirs, files in os.walk(dir):\n",
    "        for dir in dirs:\n",
    "            if regex.match(dir):\n",
    "                key = \"\"\n",
    "                for group in range(1, regex.match(dir).lastindex + 1):\n",
    "                    key += regex.match(dir).group(group)\n",
    "                runs[key] = os.path.join(root, dir)\n",
    "    return runs"
   ]
  },
  {
   "cell_type": "code",
   "execution_count": null,
   "metadata": {},
   "outputs": [],
   "source": [
    "#|export\n",
    "\n",
    "def find_runs_in_source_but_not_dest(source_dir, source_regex, destination_dir, destination_regex, output_file):\n",
    "    source_runs = find_runs(source_dir, source_regex)\n",
    "    destination_runs = find_runs(destination_dir, destination_regex)\n",
    "\n",
    "    target_runs = set(source_runs.keys()) - set(destination_runs.keys())\n",
    "    target_runs = sorted(target_runs)\n",
    "\n",
    "    with open(output_file, 'w') as f:\n",
    "        f.write(f'#paths\\n')\n",
    "        for run in target_runs:\n",
    "            f.write(f\"{source_runs[run]}\\n\")"
   ]
  },
  {
   "cell_type": "code",
   "execution_count": null,
   "metadata": {},
   "outputs": [],
   "source": [
    "#|export\n",
    "\n",
    "from fastcore.script import call_parse\n",
    "import os\n",
    "\n",
    "@call_parse\n",
    "def cli(\n",
    "    source_dir:str=os.environ.get(\"FRD_SOURCE_DIR\"), # Path to source directory\n",
    "    dest_dir:str=os.environ.get(\"FRD_DEST_DIR\"), # Path to destination directory\n",
    "    source_regex:str=os.environ.get(\"FRD_SOURCE_REGEX\"), # Regex to match source directory\n",
    "    dest_regex:str=os.environ.get(\"FRD_DEST_REGEX\"), # Regex to match destination directory\n",
    "    output_file:str=os.environ.get(\"FRD_OUTPUT_FILE\"), # Path to output file\n",
    "    ):\n",
    "    \"Move all files in source_dir to dest_dir\"\n",
    "    find_runs_in_source_but_not_dest(source_dir, source_regex, dest_dir, dest_regex, output_file)\n",
    "    print(\"Hello World!\")"
   ]
  },
  {
   "cell_type": "code",
   "execution_count": null,
   "metadata": {},
   "outputs": [
    {
     "name": "stdout",
     "output_type": "stream",
     "text": [
      "Hello World!\n"
     ]
    }
   ],
   "source": [
    "cli(os.environ.get(\"FRD_SOURCE_DIR\",\"./input\"), os.environ.get(\"FRD_DEST_DIR\",\"./input/\"), os.environ.get(\"FRD_SOURCE_REGEX\"), os.environ.get(\"FRD_DEST_REGEX\"), os.environ.get(\"FRD_OUTPUT_FILE\"))"
   ]
  },
  {
   "cell_type": "code",
   "execution_count": null,
   "metadata": {},
   "outputs": [],
   "source": [
    "#| hide\n",
    "from nbdev import nbdev_export\n",
    "nbdev_export()"
   ]
  }
 ],
 "metadata": {
  "kernelspec": {
   "display_name": "Python 3.9.13 64-bit",
   "language": "python",
   "name": "python3"
  }
 },
 "nbformat": 4,
 "nbformat_minor": 4
}
